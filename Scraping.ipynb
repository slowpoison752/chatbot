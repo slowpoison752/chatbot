{
 "cells": [
  {
   "cell_type": "code",
   "execution_count": 12,
   "metadata": {},
   "outputs": [],
   "source": [
    "import requests\n",
    "from bs4 import BeautifulSoup\n",
    "import pprint"
   ]
  },
  {
   "cell_type": "code",
   "execution_count": 4,
   "metadata": {},
   "outputs": [
    {
     "data": {
      "text/plain": [
       "<Response [200]>"
      ]
     },
     "execution_count": 4,
     "metadata": {},
     "output_type": "execute_result"
    }
   ],
   "source": [
    "res = requests.get('https://granthium.com/index.php',headers={\"User-Agent\": \"XY\"})\n",
    "res"
   ]
  },
  {
   "cell_type": "code",
   "execution_count": 14,
   "metadata": {},
   "outputs": [
    {
     "name": "stdout",
     "output_type": "stream",
     "text": [
      "[<a href=\"index.php\"><img alt=\"\" class=\"img-responsive\" src=\"assets/images/logo1.png\"/></a>,\n",
      " <a href=\"index.php\"><i class=\"manu-home fa fa-home\"></i>Home</a>,\n",
      " <a href=\"#\">Telecom</a>,\n",
      " <a href=\"telecom.php\">Our Scope</a>,\n",
      " <a href=\"tel_mod.php\">Telecom Modernization</a>,\n",
      " <a href=\"#\">Enterprise</a>,\n",
      " <a href=\"enterprise.php\">Our Scope</a>,\n",
      " <a href=\"rehosting.php\">Rehosting Legacy</a>,\n",
      " <a href=\"#\">Fintech</a>,\n",
      " <a href=\"fintech.php\">Our Scope</a>,\n",
      " <a href=\"rpa.php\">Robotic Process Automation</a>,\n",
      " <a href=\"#\">Services</a>,\n",
      " <a href=\"managed_services.php\">Managed Services</a>,\n",
      " <a href=\"pro_services.php\">Professional Services</a>,\n",
      " <a href=\"#\">About Us</a>,\n",
      " <a href=\"mission.php\">Mission</a>,\n",
      " <a href=\"leadership.php\">Leadership</a>,\n",
      " <a href=\"partners.php\">Our Partners</a>,\n",
      " <a href=\"contact.php\">Contact</a>,\n",
      " <a class=\"carent\" href=\"index.php\">Home</a>,\n",
      " <a href=\"#\">Telecom</a>,\n",
      " <a href=\"telecom.php\">Our Scope</a>,\n",
      " <a href=\"tel_mod.php\">Telecom Modernization</a>,\n",
      " <a href=\"#\">Enterprise</a>,\n",
      " <a href=\"enterprise.php\">Our Scope</a>,\n",
      " <a href=\"rehosting.php\">Rehosting Legacy</a>,\n",
      " <a href=\"#\">Fintech</a>,\n",
      " <a href=\"fintech.php\">Our Scope</a>,\n",
      " <a href=\"rpa.php\">Robotic Process Automation</a>,\n",
      " <a href=\"#\">Services</a>,\n",
      " <a href=\"managed_services.php\">Managed Services</a>,\n",
      " <a href=\"pro_services.php\">Professional Services</a>,\n",
      " <a href=\"#\">About Us</a>,\n",
      " <a href=\"mission.php\">Mission</a>,\n",
      " <a href=\"leadership.php\">Leadership</a>,\n",
      " <a href=\"partners.php\">Our Partners</a>,\n",
      " <a href=\"contact.php\">Contact</a>,\n",
      " <a href=\"ai_ml.php\" style=\"background-color: #010a35; color: white !important; border-radius: 35%;\">AI-ML</a>,\n",
      " <a href=\"iot.php\" style=\"background-color: #010a35; color: white !important; border-radius: 35%;\">IOT</a>,\n",
      " <a href=\"bigdata.php\" style=\"background-color: #010a35; color: white !important; border-radius: 35%;\">BIG DATA</a>,\n",
      " <a href=\"ai_ml.php\" style=\"background-color: #010a35; color: white !important; border-radius: 35%;\">AI-ML</a>,\n",
      " <a href=\"iot.php\" style=\"background-color: #010a35; color: white !important; border-radius: 35%;\">IOT</a>,\n",
      " <a href=\"bigdata.php\" style=\"background-color: #010a35; color: white !important; border-radius: 35%;\">BIG DATA</a>,\n",
      " <a href=\"ai_ml.php\" style=\"background-color: #010a35; color: white !important; border-radius: 35%;\">AI-ML</a>,\n",
      " <a href=\"iot.php\" style=\"background-color: #010a35; color: white !important; border-radius: 35%;\">IOT</a>,\n",
      " <a href=\"bigdata.php\" style=\"background-color: #010a35; color: white !important; border-radius: 35%;\">BIG DATA</a>,\n",
      " <a href=\"https://automationedge.com/webinar/how-integrating-hyperautomation-with-mainframe-delivers-transformational-growth/\">\n",
      "<h2 align=\"center\"><b> Get a Recording of our Webinar: Integrating Hyperautomation with Mainframe </b></h2></a>,\n",
      " <a href=\"telecom.php\">Read More</a>,\n",
      " <a href=\"enterprise.php\">Read More</a>,\n",
      " <a href=\"fintech.php\">Read More</a>,\n",
      " <a href=\"bigdata.php\">Read More</a>,\n",
      " <a href=\"iot.php\">Read More</a>,\n",
      " <a href=\"ai_ml.php\">Read More</a>,\n",
      " <a href=\"managed_services.php\">\n",
      "<h5 style=\"font-weight: 600; color: white;\">MANAGED SERVICES</h5>\n",
      "<p>Our Managed Services increase staff productivity beyond the operational barrier.</p>\n",
      "</a>,\n",
      " <a href=\"pro_services.php\">\n",
      "<h5 style=\"font-weight: 600; color: white;\">PROFESSIONAL SERVICES</h5>\n",
      "<p>Our Professional Service model is based on the foundations of Strategic IT Sourcing.</p>\n",
      "</a>,\n",
      " <a href=\"#\"><i class=\"home fa fa-phone\"></i>   +1-224-353-6427</a>,\n",
      " <a href=\"mailto:info@granthium.com\"><i class=\"home fa fa-envelope-o\"></i>   info@granthium.com</a>,\n",
      " <a href=\"#\"><i class=\"home fa fa-map-marker\"></i>   1111 Plaza Dr, Suite 640, Schaumburg, IL 60173</a>,\n",
      " <a href=\"#\"><i class=\"home fa fa-phone\"></i>   +91-7811-991899</a>,\n",
      " <a href=\"mailto:info@granthium.com\"><i class=\"home fa fa-envelope-o\"></i>   info@granthium.com</a>,\n",
      " <a href=\"#\"><i class=\"home fa fa-map-marker\"></i>   185, SPS Building, Anna Salai, Chennai - 600002</a>,\n",
      " <a href=\"#\"><i class=\"home fa fa-map-marker\"></i>   116, KMC Complex, Coimbatore 641010</a>,\n",
      " <a href=\"#\"><i class=\"home fa fa-phone\"></i>   +44 7500 503 153</a>,\n",
      " <a href=\"mailto:info@granthium.com\"><i class=\"home fa fa-envelope-o\"></i>   info@granthium.com</a>,\n",
      " <a href=\"#\"><i class=\"home fa fa-map-marker\"></i>   A1213 Gracechurch St, London EC3V 1LT, UK</a>,\n",
      " <a href=\"#\"><i class=\"home fa fa-phone\"></i>   +971 52 747 4174</a>,\n",
      " <a href=\"mailto:info@granthium.com\"><i class=\"home fa fa-envelope-o\"></i>   info@granthium.com</a>,\n",
      " <a href=\"#\"><i class=\"home fa fa-map-marker\"></i>   DPB 05, Dubai International Financial Centre, Dubai, 507211, UAE</a>,\n",
      " <a href=\"#\">Granthium Corporation</a>,\n",
      " <a class=\"bstore-scrollertop\" href=\"#\"><i class=\"fa fa-angle-double-up\"></i></a>]\n"
     ]
    }
   ],
   "source": [
    "soup = BeautifulSoup(res.text,'html.parser')\n",
    "pprint.pprint(soup.find_all('a'))"
   ]
  },
  {
   "cell_type": "code",
   "execution_count": 16,
   "metadata": {},
   "outputs": [
    {
     "name": "stdout",
     "output_type": "stream",
     "text": [
      "[]\n"
     ]
    }
   ],
   "source": [
    "res2 = requests.get('https://granthium.com/telecom.php',headers={\"User-Agent\": \"XY\"})\n",
    "soup2 = BeautifulSoup(res2.text,'html.parser')\n",
    "pprint.pprint(soup2.select('.our-office-title'))"
   ]
  },
  {
   "cell_type": "code",
   "execution_count": null,
   "metadata": {},
   "outputs": [],
   "source": []
  }
 ],
 "metadata": {
  "kernelspec": {
   "display_name": "Python 3",
   "language": "python",
   "name": "python3"
  },
  "language_info": {
   "codemirror_mode": {
    "name": "ipython",
    "version": 3
   },
   "file_extension": ".py",
   "mimetype": "text/x-python",
   "name": "python",
   "nbconvert_exporter": "python",
   "pygments_lexer": "ipython3",
   "version": "3.7.6"
  }
 },
 "nbformat": 4,
 "nbformat_minor": 4
}
