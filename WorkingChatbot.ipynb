{
 "cells": [
  {
   "cell_type": "code",
   "execution_count": 25,
   "metadata": {},
   "outputs": [],
   "source": [
    "import nltk\n",
    "from nltk.stem.lancaster import LancasterStemmer\n",
    "stemmer = LancasterStemmer()\n",
    "import numpy as np\n",
    "import tensorflow\n",
    "import tflearn\n",
    "import random\n",
    "import json\n",
    "import pickle\n",
    "from keras.models import Sequential\n",
    "from keras.layers import Dense\n",
    "\n",
    "with open('./Datasets/intents.json') as file:\n",
    "    data = json.load(file)\n",
    "\n",
    "try:\n",
    "    with open('data.pickle','rb') as f:\n",
    "        words,labels,training, output = pickle.load(f)\n",
    "except:\n",
    "    words = []\n",
    "    labels =[]\n",
    "    docs_x = []\n",
    "    docs_y = []\n",
    "\n",
    "# stemming takes each word in out patters and get to its root, stemming eliminates extra characters and helps make model more accurate\n",
    "    for intent in data['intents']:\n",
    "        for pattern in intent['patterns']:\n",
    "            wrd = nltk.word_tokenize(pattern)\n",
    "            words.extend(wrd) # wrds is already a list so rather than appending through it and appending one by one we can append the entire list\n",
    "            docs_x.append(wrd)\n",
    "            docs_y.append(intent['tag'])\n",
    "        if intent['tag'] not in labels:\n",
    "            labels.append(intent['tag'])\n",
    "        \n",
    "    words= [stemmer.stem(w.lower()) for w in words if w!= '?']\n",
    "    words = sorted(list(set(words)))\n",
    "    labels = sorted(labels)\n",
    "\n",
    "    training = []\n",
    "    output = []\n",
    "\n",
    "    out_empty=[ 0 for _ in range(len(labels))]   #classes to labels\n",
    "\n",
    "    for x,doc in enumerate(docs_x):\n",
    "        bag =[]\n",
    "    \n",
    "        wrds = [stemmer.stem(w.lower()) for w in doc]\n",
    "    \n",
    "        for w in words:\n",
    "            if  w in wrds:\n",
    "                bag.append(1)\n",
    "            else:\n",
    "                bag.append(0)\n",
    "            \n",
    "        output_row = out_empty[:]\n",
    "        output_row[labels.index(docs_y[x])]=1\n",
    "    \n",
    "        training.append(bag)\n",
    "        output.append(output_row)\n",
    "    \n",
    "    training = np.array(training)\n",
    "    output = np.array(output)\n",
    "    \n",
    "    with open('data.pickle','wb') as f:\n",
    "        pickle.dump((words,labels,training, output),f) \n",
    "\n",
    "\n",
    "tensorflow.reset_default_graph()\n",
    "\n",
    "net = tflearn.input_data(shape =[None, len(training[0])])\n",
    "net = tflearn.fully_connected(net,8)\n",
    "net = tflearn.fully_connected(net,8)\n",
    "net = tflearn.fully_connected(net, len(output[0]),activation='softmax')\n",
    "net = tflearn.regression(net)\n",
    "\n",
    "model = tflearn.DNN(net)\n",
    "\n",
    "try:\n",
    "    model.load('model.tflearn')\n",
    "except:\n",
    "    \n",
    "    model.fit(training, output,n_epoch=1000, batch_size=8, show_metric=True)\n",
    "    model.save('chatbotV1.tflearn')\n",
    "    \n"
   ]
  },
  {
   "cell_type": "code",
   "execution_count": 6,
   "metadata": {},
   "outputs": [],
   "source": []
  },
  {
   "cell_type": "code",
   "execution_count": 8,
   "metadata": {},
   "outputs": [],
   "source": []
  },
  {
   "cell_type": "code",
   "execution_count": 16,
   "metadata": {},
   "outputs": [],
   "source": [
    "\n",
    "    \n"
   ]
  },
  {
   "cell_type": "code",
   "execution_count": 23,
   "metadata": {},
   "outputs": [],
   "source": []
  },
  {
   "cell_type": "code",
   "execution_count": 19,
   "metadata": {},
   "outputs": [],
   "source": []
  },
  {
   "cell_type": "code",
   "execution_count": 21,
   "metadata": {},
   "outputs": [],
   "source": [
    "#model = Sequential()\n",
    "#model.add(Dense(8, input_dim=len(training[0]), activation='relu'))\n",
    "#model.add(Dense(8, activation='relu'))\n",
    "#model.add(Dense(len(output[0]), activation='softmax'))"
   ]
  },
  {
   "cell_type": "code",
   "execution_count": 24,
   "metadata": {},
   "outputs": [
    {
     "name": "stdout",
     "output_type": "stream",
     "text": [
      "Training Step: 12999  | total loss: \u001b[1m\u001b[32m1.19373\u001b[0m\u001b[0m | time: 0.065s\n",
      "| Adam | epoch: 1000 | loss: 1.19373 - acc: 0.4749 -- iter: 096/104\n",
      "Training Step: 13000  | total loss: \u001b[1m\u001b[32m1.22391\u001b[0m\u001b[0m | time: 0.070s\n",
      "| Adam | epoch: 1000 | loss: 1.22391 - acc: 0.4524 -- iter: 104/104\n",
      "--\n",
      "INFO:tensorflow:C:\\Users\\aditya\\Desktop\\Granthium_ChatBot\\chatbotV1.tflearn is not in all_model_checkpoint_paths. Manually adding it.\n"
     ]
    }
   ],
   "source": []
  },
  {
   "cell_type": "code",
   "execution_count": null,
   "metadata": {},
   "outputs": [],
   "source": []
  }
 ],
 "metadata": {
  "kernelspec": {
   "display_name": "Python 3",
   "language": "python",
   "name": "python3"
  },
  "language_info": {
   "codemirror_mode": {
    "name": "ipython",
    "version": 3
   },
   "file_extension": ".py",
   "mimetype": "text/x-python",
   "name": "python",
   "nbconvert_exporter": "python",
   "pygments_lexer": "ipython3",
   "version": "3.7.6"
  }
 },
 "nbformat": 4,
 "nbformat_minor": 4
}
